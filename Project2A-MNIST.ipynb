{
 "cells": [
  {
   "cell_type": "code",
   "execution_count": 2,
   "metadata": {},
   "outputs": [],
   "source": [
    "from __future__ import print_function\n",
    "%matplotlib inline\n",
    "import pandas as pd\n",
    "import numpy as np\n",
    "import sklearn as skl\n",
    "import matplotlib.pyplot as plt\n",
    "from sklearn.neighbors import KNeighborsClassifier\n",
    "from sklearn.metrics import classification_report\n",
    "from sklearn.metrics import confusion_matrix\n",
    "from sklearn.datasets import fetch_openml\n",
    "from sklearn import datasets\n",
    "from skimage import exposure\n",
    "import numpy as np\n",
    "from sklearn.model_selection import train_test_split\n",
    "import sklearn\n",
    "from sklearn.utils import shuffle\n",
    "from sklearn.decomposition import PCA\n",
    "import pickle\n",
    "import seaborn as sns\n",
    "import scikitplot as skplt\n",
    "from sklearn import linear_model\n"
   ]
  },
  {
   "cell_type": "markdown",
   "metadata": {},
   "source": [
    "## Project 2A: MNIST\n",
    "\n",
    "In this assignment, you will be working with MNIST dataset to train a handwriting digit classifier.\n",
    "\n",
    "<img src=\"mnistExamples.png\">"
   ]
  },
  {
   "cell_type": "markdown",
   "metadata": {},
   "source": [
    "### Part I: kNN classifiers for MNIST \n",
    "\n",
    "You will train kNN classifiers for multiple values of $k$ and then choose the classifer with the lowest validation error as your final classifier."
   ]
  },
  {
   "cell_type": "markdown",
   "metadata": {},
   "source": [
    "#### 1. Prepare the train/validate/test data.\n",
    "First step, split the dataset into 60% training data, 20% validation data, and 20% test data"
   ]
  },
  {
   "cell_type": "code",
   "execution_count": 3,
   "metadata": {},
   "outputs": [],
   "source": [
    "# load the MNIST digits dataset\n",
    "mnist = pickle.load(open(\"mnist.p\", \"rb\"))\n",
    "\n",
    "#shuffle the data and the target to make it more reliable\n",
    "suffled_mnist_data, suffled_mnist_target = shuffle(mnist.data, mnist.target) # shuffle dataset (which is ordered!)\n",
    "\n",
    "# split data for data testing and 20% for data testing\n",
    "(train_data, test_data, train_labels, test_labels) = train_test_split(np.array(suffled_mnist_data),\n",
    "                                                                      suffled_mnist_target,\n",
    "                                                                      test_size = 0.2,\n",
    "                                                                      random_state= 42\n",
    "                                                                     )\n",
    "# 20 for validation and 60 for train\n",
    "(train_data, val_data, train_labels, val_labels) = train_test_split(np.array(train_data),\n",
    "                                                                    train_labels,\n",
    "                                                                    test_size = 0.2, \n",
    "                                                                    random_state = 42\n",
    "                                                                   )"
   ]
  },
  {
   "cell_type": "code",
   "execution_count": 4,
   "metadata": {},
   "outputs": [
    {
     "name": "stdout",
     "output_type": "stream",
     "text": [
      "training data points: 44800\n",
      "validation data points: 11200\n",
      "testing data points: 14000\n"
     ]
    }
   ],
   "source": [
    "# Check the size of each seperation\n",
    "print(\"training data points: {}\".format(len(train_labels)))\n",
    "print(\"validation data points: {}\".format(len(val_labels)))\n",
    "print(\"testing data points: {}\".format(len(test_labels)))\n",
    "\n"
   ]
  },
  {
   "cell_type": "markdown",
   "metadata": {},
   "source": [
    "#### 2. Train kNN classifiers\n",
    "For each value of $k \\in [2,20]$, train a kNN classifier with Euclidean distance (L1). Plot out validation error for $k$. **Plot out the validation error for each value of k.** "
   ]
  },
  {
   "cell_type": "code",
   "execution_count": null,
   "metadata": {},
   "outputs": [
    {
     "name": "stdout",
     "output_type": "stream",
     "text": [
      "k=3, accuracy=96.82%\n",
      "k=5, accuracy=96.78%\n",
      "k=7, accuracy=96.66%\n"
     ]
    }
   ],
   "source": [
    "# This is out range of k starting from 2 to 20\n",
    "kVals = range(3,21, 2)\n",
    "accuracies = []\n",
    " \n",
    "\n",
    "    \n",
    "    \n",
    "# loop over various values of `k` for the k-Nearest Neighbor classifier ignoring the even number \n",
    "####################################################################################################################\n",
    "# WARNING ! If you ran this, it's going to take write 30 - 40 mins and comsume 100 ++ of you CPU\n",
    "# K = 3 is the best result. trust me !\n",
    "####################################################################################################################\n",
    "\n",
    "for k in range(3, 21, 2):\n",
    "    #Building up the model with test values\n",
    "    model = KNeighborsClassifier(n_neighbors=k)\n",
    "    model.fit(train_data, train_labels)\n",
    "     \n",
    "    # validiate the model with validate set of data\n",
    "    accuracy_score = model.score(val_data, val_labels)\n",
    "    print(\"k=%d, accuracy=%.2f%%\" % (k, accuracy_score * 100))\n",
    "    accuracies.append(accuracy_score)\n",
    " \n",
    "# find the value of k that has the largest accuracy\n",
    "inx_max = int(np.argmax(accuracies))\n",
    "print(\"The highest accuracy is %.2f%% occuring when k = %d\" % (\n",
    "\taccuracies[inx_max] * 100, kVals[inx_max]))"
   ]
  },
  {
   "cell_type": "markdown",
   "metadata": {},
   "source": [
    "#### 3. Test and analyze \n",
    "Choose the classifier with lowest validation error from previous part. Calculate the **confusion matrix**, along with the test accuracy and, for each class, test precision/recall as shown in the example below. You don't have to match the output exactly but you need to show same amount of information \n",
    "\n",
    "<img width=\"400px\" src=\"mnist_conf_mat.png\">\n"
   ]
  },
  {
   "cell_type": "code",
   "execution_count": 5,
   "metadata": {},
   "outputs": [],
   "source": [
    "#Since the best k thats give the best accuracy is 3, we use that classifier to test \n",
    "\n",
    "model = KNeighborsClassifier(n_neighbors=3)\n",
    "model.fit(train_data, train_labels)\n",
    "predictions = model.predict(test_data)\n",
    "\n"
   ]
  },
  {
   "cell_type": "code",
   "execution_count": 6,
   "metadata": {},
   "outputs": [],
   "source": [
    "report = classification_report(test_labels, predictions, output_dict=True)"
   ]
  },
  {
   "cell_type": "code",
   "execution_count": 7,
   "metadata": {},
   "outputs": [],
   "source": [
    "df = pd.DataFrame(report)\n",
    "df.drop([\"f1-score\", \"support\"], inplace=True ,axis=0)\n",
    "df.drop([\"micro avg\", \"macro avg\", \"weighted avg\"], axis=1, inplace=True)"
   ]
  },
  {
   "cell_type": "code",
   "execution_count": 8,
   "metadata": {},
   "outputs": [],
   "source": [
    "\n",
    "df = (df*100)\n",
    "df = df.astype(int)"
   ]
  },
  {
   "cell_type": "code",
   "execution_count": 59,
   "metadata": {},
   "outputs": [
    {
     "data": {
      "text/html": [
       "<div>\n",
       "<style scoped>\n",
       "    .dataframe tbody tr th:only-of-type {\n",
       "        vertical-align: middle;\n",
       "    }\n",
       "\n",
       "    .dataframe tbody tr th {\n",
       "        vertical-align: top;\n",
       "    }\n",
       "\n",
       "    .dataframe thead th {\n",
       "        text-align: right;\n",
       "    }\n",
       "</style>\n",
       "<table border=\"1\" class=\"dataframe\">\n",
       "  <thead>\n",
       "    <tr style=\"text-align: right;\">\n",
       "      <th></th>\n",
       "      <th>0</th>\n",
       "      <th>1</th>\n",
       "      <th>2</th>\n",
       "      <th>3</th>\n",
       "      <th>4</th>\n",
       "      <th>5</th>\n",
       "      <th>6</th>\n",
       "      <th>7</th>\n",
       "      <th>8</th>\n",
       "      <th>9</th>\n",
       "    </tr>\n",
       "  </thead>\n",
       "  <tbody>\n",
       "    <tr>\n",
       "      <th>precision</th>\n",
       "      <td>97</td>\n",
       "      <td>96</td>\n",
       "      <td>98</td>\n",
       "      <td>95</td>\n",
       "      <td>97</td>\n",
       "      <td>96</td>\n",
       "      <td>97</td>\n",
       "      <td>96</td>\n",
       "      <td>98</td>\n",
       "      <td>95</td>\n",
       "    </tr>\n",
       "    <tr>\n",
       "      <th>recall</th>\n",
       "      <td>99</td>\n",
       "      <td>99</td>\n",
       "      <td>95</td>\n",
       "      <td>97</td>\n",
       "      <td>96</td>\n",
       "      <td>94</td>\n",
       "      <td>98</td>\n",
       "      <td>97</td>\n",
       "      <td>92</td>\n",
       "      <td>96</td>\n",
       "    </tr>\n",
       "  </tbody>\n",
       "</table>\n",
       "</div>"
      ],
      "text/plain": [
       "            0   1   2   3   4   5   6   7   8   9\n",
       "precision  97  96  98  95  97  96  97  96  98  95\n",
       "recall     99  99  95  97  96  94  98  97  92  96"
      ]
     },
     "execution_count": 59,
     "metadata": {},
     "output_type": "execute_result"
    },
    {
     "data": {
      "image/png": "[encoded data removed]",
      "text/plain": [
       "<Figure size 360x360 with 1 Axes>"
      ]
     },
     "metadata": {
      "needs_background": "light"
     },
     "output_type": "display_data"
    }
   ],
   "source": [
    "\n",
    "conf_mat = confusion_matrix(test_labels, predictions)\n",
    "fig, ax = plt.subplots(1,1, figsize=(5,5))\n",
    "# skplt.metrics.plot_confusion_matrix(test_labels, predictions, ax=ax[1])\n",
    "\n",
    "\n",
    "sns.heatmap(conf_mat, annot=True, fmt='d', cbar=False, ax=ax)\n",
    "ax.set_title('Confusion Metrix')\n",
    "ax.set_ylabel(\"Actual\")\n",
    "ax.set_xlabel(\"Predicted\")\n",
    "df\n"
   ]
  },
  {
   "cell_type": "markdown",
   "metadata": {},
   "source": [
    "Also, show example images of **mistakes** your classifier made.\n",
    "\n",
    "<img width=\"200px\" src=\"mistakes.png\">\n",
    "\n"
   ]
  },
  {
   "cell_type": "code",
   "execution_count": 68,
   "metadata": {},
   "outputs": [
    {
     "data": {
      "text/plain": [
       "Text(0.5, 0.98, '2 misclassified as 7')"
      ]
     },
     "execution_count": 68,
     "metadata": {},
     "output_type": "execute_result"
    },
    {
     "data": {
      "image/png": "[encoded data removed]",
      "text/plain": [
       "<Figure size 288x288 with 12 Axes>"
      ]
     },
     "metadata": {
      "needs_background": "light"
     },
     "output_type": "display_data"
    }
   ],
   "source": [
    "lt = []\n",
    "limit = 12\n",
    "indx = 0\n",
    "while(limit > 0 and indx < len(test_data)):\n",
    "    if (test_labels[indx] == '2' and predictions[indx] == '7'):\n",
    "        lt.append(test_data[indx])\n",
    "        limit -= 1\n",
    "        indx += 1\n",
    "    indx += 1\n",
    "\n",
    "len(lt)\n",
    "fig,ax = plt.subplots (3,4, figsize=(4,4))\n",
    "indx = 0\n",
    "for row in range(3):\n",
    "    for col in range(4):\n",
    "        ax[row][col].imshow(np.reshape(lt[indx],(28,28)),cmap='gray')\n",
    "        ax[row][col].set_yticklabels([])\n",
    "        ax[row][col].set_xticklabels([])\n",
    "        \n",
    "        indx+= 1\n",
    "fig.suptitle('2 misclassified as 7', fontsize=12)"
   ]
  },
  {
   "cell_type": "markdown",
   "metadata": {},
   "source": [
    "### Part II: Logistic Regression, Decision Tree, Perceptron and SVM \n",
    "\n",
    "In this part, we consider a binary classification problem, \"odd vs even\". You will train a **logistic regression classifier**, a **decision tree**, a **perceptron** and a **SVM** that predicts \"even\" or \"odd\" given an instance from MNIST dataset."
   ]
  },
  {
   "cell_type": "markdown",
   "metadata": {},
   "source": [
    "#### 1. Prepare the training data and train the classifier"
   ]
  },
  {
   "cell_type": "code",
   "execution_count": 76,
   "metadata": {},
   "outputs": [],
   "source": [
    "# load the MNIST digits dataset\n",
    "mnist = pickle.load(open(\"mnist.p\", \"rb\"))\n",
    "\n",
    "# 1 is odd 0 is even\n",
    "odd_even = np.array([ int(x)%2 for x in mnist.target])\n",
    "#shuffle the data and the target to make it more reliable\n",
    "suffled_mnist_data, suffled_mnist_target, suffled_mnist_odd_even = shuffle(mnist.data, mnist.target, odd_even) # shuffle dataset (which is ordered!)\n",
    "\n",
    "# one more data odd or even\n",
    "\n",
    "\n",
    "\n",
    "# split data for data testing and 20% for data testing\n",
    "\n",
    "\n",
    "(train_data, test_data, train_odd_even, test_odd_even) = train_test_split(np.array(suffled_mnist_data),\n",
    "                                                                      suffled_mnist_odd_even,\n",
    "                                                                      test_size = 0.2,\n",
    "                                                                      random_state= 42\n",
    "                                                                     )\n",
    "# 20 for validation and 60 for train\n",
    "(train_data, val_data, train_odd_even, val_odd_even) = train_test_split(np.array(train_data),\n",
    "                                                                    train_odd_even,\n",
    "                                                                    test_size = 0.2, \n",
    "                                                                    random_state = 42\n",
    "                                                                   )"
   ]
  },
  {
   "cell_type": "code",
   "execution_count": 84,
   "metadata": {},
   "outputs": [
    {
     "name": "stdout",
     "output_type": "stream",
     "text": [
      "(44800, 784)\n",
      "(44800,)\n"
     ]
    }
   ],
   "source": [
    "print(train_data.shape)\n",
    "print(train_odd_even.shape)"
   ]
  },
  {
   "cell_type": "code",
   "execution_count": 85,
   "metadata": {},
   "outputs": [
    {
     "name": "stderr",
     "output_type": "stream",
     "text": [
      "/usr/local/lib/python3.7/site-packages/sklearn/linear_model/logistic.py:433: FutureWarning: Default solver will be changed to 'lbfgs' in 0.22. Specify a solver to silence this warning.\n",
      "  FutureWarning)\n"
     ]
    },
    {
     "data": {
      "text/plain": [
       "LogisticRegression(C=100000, class_weight=None, dual=False,\n",
       "          fit_intercept=True, intercept_scaling=1, max_iter=100,\n",
       "          multi_class='warn', n_jobs=None, penalty='l2', random_state=None,\n",
       "          solver='warn', tol=0.0001, verbose=0, warm_start=False)"
      ]
     },
     "execution_count": 85,
     "metadata": {},
     "output_type": "execute_result"
    }
   ],
   "source": [
    "#1 . Use Logistic regession\n",
    "from sklearn.linear_model import LogisticRegression\n",
    "LRmodel = LogisticRegression(C=100000)\n",
    "\n",
    "LRmodel.fit(train_data, train_odd_even)"
   ]
  },
  {
   "cell_type": "markdown",
   "metadata": {},
   "source": [
    "#### 2. Test your classifiers\n",
    "\n",
    "For each classifier, calculate the **confusion matrix**, along with the **test accuracy/precision/recall/f1-score** of your classifier. You only need to do this for 1 test set.\n"
   ]
  },
  {
   "cell_type": "code",
   "execution_count": 115,
   "metadata": {},
   "outputs": [
    {
     "name": "stdout",
     "output_type": "stream",
     "text": [
      "Accuracy is 0.8950892857142857\n"
     ]
    },
    {
     "data": {
      "text/html": [
       "<div>\n",
       "<style scoped>\n",
       "    .dataframe tbody tr th:only-of-type {\n",
       "        vertical-align: middle;\n",
       "    }\n",
       "\n",
       "    .dataframe tbody tr th {\n",
       "        vertical-align: top;\n",
       "    }\n",
       "\n",
       "    .dataframe thead th {\n",
       "        text-align: right;\n",
       "    }\n",
       "</style>\n",
       "<table border=\"1\" class=\"dataframe\">\n",
       "  <thead>\n",
       "    <tr style=\"text-align: right;\">\n",
       "      <th></th>\n",
       "      <th>0</th>\n",
       "      <th>1</th>\n",
       "    </tr>\n",
       "  </thead>\n",
       "  <tbody>\n",
       "    <tr>\n",
       "      <th>precision</th>\n",
       "      <td>89</td>\n",
       "      <td>89</td>\n",
       "    </tr>\n",
       "    <tr>\n",
       "      <th>recall</th>\n",
       "      <td>89</td>\n",
       "      <td>89</td>\n",
       "    </tr>\n",
       "  </tbody>\n",
       "</table>\n",
       "</div>"
      ],
      "text/plain": [
       "            0   1\n",
       "precision  89  89\n",
       "recall     89  89"
      ]
     },
     "execution_count": 115,
     "metadata": {},
     "output_type": "execute_result"
    },
    {
     "data": {
      "image/png": "[encoded data removed]",
      "text/plain": [
       "<Figure size 360x360 with 1 Axes>"
      ]
     },
     "metadata": {
      "needs_background": "light"
     },
     "output_type": "display_data"
    }
   ],
   "source": [
    "predictions = LRmodel.predict(test_data)\n",
    "\n",
    "conf_mat = confusion_matrix(test_odd_even, predictions)\n",
    "fig, ax = plt.subplots(1,1, figsize=(5,5))\n",
    "# skplt.metrics.plot_confusion_matrix(test_labels, predictions, ax=ax[1])\n",
    "\n",
    "sns.heatmap(conf_mat, annot=True, fmt='d', cbar=False, ax=ax)\n",
    "ax.set_title('Confusion Metrix Logistic Regession')\n",
    "ax.set_ylabel(\"Actual\")\n",
    "ax.set_xlabel(\"Predicted\")\n",
    "\n",
    "\n",
    "report = classification_report(test_odd_even, predictions, output_dict=True)\n",
    "df = pd.DataFrame(report)\n",
    "df.drop([\"f1-score\", \"support\"], inplace=True ,axis=0)\n",
    "df.drop([\"micro avg\", \"macro avg\", \"weighted avg\"], axis=1, inplace=True)\n",
    "print(\"Accuracy is \" + str(LRmodel.score(val_data, val_odd_even)))\n",
    "df = (df*100)\n",
    "df = df.astype(int)\n",
    "df\n"
   ]
  },
  {
   "cell_type": "code",
   "execution_count": 116,
   "metadata": {},
   "outputs": [
    {
     "name": "stdout",
     "output_type": "stream",
     "text": [
      "Accuracy is 0.8950892857142857\n"
     ]
    },
    {
     "data": {
      "text/html": [
       "<div>\n",
       "<style scoped>\n",
       "    .dataframe tbody tr th:only-of-type {\n",
       "        vertical-align: middle;\n",
       "    }\n",
       "\n",
       "    .dataframe tbody tr th {\n",
       "        vertical-align: top;\n",
       "    }\n",
       "\n",
       "    .dataframe thead th {\n",
       "        text-align: right;\n",
       "    }\n",
       "</style>\n",
       "<table border=\"1\" class=\"dataframe\">\n",
       "  <thead>\n",
       "    <tr style=\"text-align: right;\">\n",
       "      <th></th>\n",
       "      <th>0</th>\n",
       "      <th>1</th>\n",
       "    </tr>\n",
       "  </thead>\n",
       "  <tbody>\n",
       "    <tr>\n",
       "      <th>precision</th>\n",
       "      <td>81</td>\n",
       "      <td>89</td>\n",
       "    </tr>\n",
       "    <tr>\n",
       "      <th>recall</th>\n",
       "      <td>89</td>\n",
       "      <td>81</td>\n",
       "    </tr>\n",
       "  </tbody>\n",
       "</table>\n",
       "</div>"
      ],
      "text/plain": [
       "            0   1\n",
       "precision  81  89\n",
       "recall     89  81"
      ]
     },
     "execution_count": 116,
     "metadata": {},
     "output_type": "execute_result"
    },
    {
     "data": {
      "image/png": "[encoded data removed]",
      "text/plain": [
       "<Figure size 360x360 with 1 Axes>"
      ]
     },
     "metadata": {
      "needs_background": "light"
     },
     "output_type": "display_data"
    }
   ],
   "source": [
    "from sklearn import linear_model\n",
    "ppn = linear_model.Perceptron(random_state=0, max_iter=100, tol=1e-6)\n",
    "ppn.fit(train_data, train_odd_even)\n",
    "\n",
    "predictions = ppn.predict(test_data)\n",
    "\n",
    "conf_mat = confusion_matrix(test_odd_even, predictions)\n",
    "fig, ax = plt.subplots(1,1, figsize=(5,5))\n",
    "# skplt.metrics.plot_confusion_matrix(test_labels, predictions, ax=ax[1])\n",
    "\n",
    "\n",
    "sns.heatmap(conf_mat, annot=True, fmt='d', cbar=False, ax=ax)\n",
    "ax.set_title('Confusion Metrix for Perceptron')\n",
    "ax.set_ylabel(\"Actual\")\n",
    "ax.set_xlabel(\"Predicted\")\n",
    "\n",
    "report = classification_report(test_odd_even, predictions, output_dict=True)\n",
    "df = pd.DataFrame(report)\n",
    "df.drop([\"f1-score\", \"support\"], inplace=True ,axis=0)\n",
    "df.drop([\"micro avg\", \"macro avg\", \"weighted avg\"], axis=1, inplace=True)\n",
    "print(\"Accuracy is \" + str(LRmodel.score(val_data, val_odd_even)))\n",
    "df = (df*100)\n",
    "df = df.astype(int)\n",
    "df"
   ]
  },
  {
   "cell_type": "code",
   "execution_count": null,
   "metadata": {},
   "outputs": [],
   "source": [
    "from sklearn.svm import SVC # \"Support vector classifier\"\n",
    "model = SVC(kernel='linear', C=1E10)\n",
    "model.fit(train_data, train_odd_even)\n",
    "\n"
   ]
  },
  {
   "cell_type": "markdown",
   "metadata": {},
   "source": [
    "#### 3. Selected mistakes\n",
    "Display some examples of mistakes made by each of your classifiers."
   ]
  },
  {
   "cell_type": "code",
   "execution_count": null,
   "metadata": {},
   "outputs": [],
   "source": []
  },
  {
   "cell_type": "markdown",
   "metadata": {},
   "source": [
    "#### 4. Cross validation\n",
    "\n",
    "Perform cross validation on each classifier and report the average accuracy and its standard deviation. Use a boxplot to compare different classifiers."
   ]
  },
  {
   "cell_type": "code",
   "execution_count": null,
   "metadata": {},
   "outputs": [],
   "source": []
  }
 ],
 "metadata": {
  "kernelspec": {
   "display_name": "Python 3",
   "language": "python",
   "name": "python3"
  },
  "language_info": {
   "codemirror_mode": {
    "name": "ipython",
    "version": 3
   },
   "file_extension": ".py",
   "mimetype": "text/x-python",
   "name": "python",
   "nbconvert_exporter": "python",
   "pygments_lexer": "ipython3",
   "version": "3.7.2"
  }
 },
 "nbformat": 4,
 "nbformat_minor": 2
}
